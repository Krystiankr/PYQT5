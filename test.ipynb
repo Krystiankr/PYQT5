{
 "cells": [
  {
   "cell_type": "code",
   "execution_count": 7,
   "metadata": {},
   "outputs": [],
   "source": [
    "import json\n",
    "import pandas as pd"
   ]
  },
  {
   "cell_type": "code",
   "execution_count": 2,
   "metadata": {},
   "outputs": [],
   "source": [
    "text = \"\"\"{\"cohesive\":\"spoisty\",\"prism of\":\"pryzmat\",\"Insensitive\":\"Niewrażliwy\",\"unfold\":\"rozwijać się\",\"ancestors\":\"przodkowie\",\"disturbing\":\"niepokojący\",\"abundance\":\"obfitość\",\"gradually\":\"stopniowo\",\"cautiously\":\"ostrożnie\",\"dispatch\":\"załatwić\",\"unwieldy\":\"nieporęczny\",\"rudimentary\":\"prymitywny\",\"steadily\":\"stale\",\"causality\":\"przyczynowość\",\"justice\":\"sprawiedliwość\",\"sneak into\":\"zakraść się do\",\"dimmed\":\"przyciemniony\"}\"\"\""
   ]
  },
  {
   "cell_type": "code",
   "execution_count": 3,
   "metadata": {},
   "outputs": [
    {
     "data": {
      "text/plain": [
       "{'cohesive': 'spoisty',\n",
       " 'prism of': 'pryzmat',\n",
       " 'Insensitive': 'Niewrażliwy',\n",
       " 'unfold': 'rozwijać się',\n",
       " 'ancestors': 'przodkowie',\n",
       " 'disturbing': 'niepokojący',\n",
       " 'abundance': 'obfitość',\n",
       " 'gradually': 'stopniowo',\n",
       " 'cautiously': 'ostrożnie',\n",
       " 'dispatch': 'załatwić',\n",
       " 'unwieldy': 'nieporęczny',\n",
       " 'rudimentary': 'prymitywny',\n",
       " 'steadily': 'stale',\n",
       " 'causality': 'przyczynowość',\n",
       " 'justice': 'sprawiedliwość',\n",
       " 'sneak into': 'zakraść się do',\n",
       " 'dimmed': 'przyciemniony'}"
      ]
     },
     "execution_count": 3,
     "metadata": {},
     "output_type": "execute_result"
    }
   ],
   "source": [
    "parsed = json.loads(text)\n",
    "parsed"
   ]
  },
  {
   "cell_type": "code",
   "execution_count": 5,
   "metadata": {},
   "outputs": [
    {
     "data": {
      "text/plain": [
       "dict_keys(['cohesive', 'prism of', 'Insensitive', 'unfold', 'ancestors', 'disturbing', 'abundance', 'gradually', 'cautiously', 'dispatch', 'unwieldy', 'rudimentary', 'steadily', 'causality', 'justice', 'sneak into', 'dimmed'])"
      ]
     },
     "execution_count": 5,
     "metadata": {},
     "output_type": "execute_result"
    }
   ],
   "source": [
    "parsed.keys()"
   ]
  },
  {
   "cell_type": "code",
   "execution_count": 6,
   "metadata": {},
   "outputs": [
    {
     "data": {
      "text/plain": [
       "'przyciemniony'"
      ]
     },
     "execution_count": 6,
     "metadata": {},
     "output_type": "execute_result"
    }
   ],
   "source": [
    "parsed['dimmed']"
   ]
  },
  {
   "cell_type": "code",
   "execution_count": 13,
   "metadata": {},
   "outputs": [
    {
     "data": {
      "text/plain": [
       "{'cohesive': 'spoisty',\n",
       " 'prism of': 'pryzmat',\n",
       " 'Insensitive': 'Niewrażliwy',\n",
       " 'unfold': 'rozwijać się',\n",
       " 'ancestors': 'przodkowie',\n",
       " 'disturbing': 'niepokojący',\n",
       " 'abundance': 'obfitość',\n",
       " 'gradually': 'stopniowo',\n",
       " 'cautiously': 'ostrożnie',\n",
       " 'dispatch': 'załatwić',\n",
       " 'unwieldy': 'nieporęczny',\n",
       " 'rudimentary': 'prymitywny',\n",
       " 'steadily': 'stale',\n",
       " 'causality': 'przyczynowość',\n",
       " 'justice': 'sprawiedliwość',\n",
       " 'sneak into': 'zakraść się do',\n",
       " 'dimmed': 'przyciemniony'}"
      ]
     },
     "execution_count": 13,
     "metadata": {},
     "output_type": "execute_result"
    }
   ],
   "source": [
    "dict(parsed)"
   ]
  },
  {
   "cell_type": "code",
   "execution_count": 36,
   "metadata": {},
   "outputs": [
    {
     "data": {
      "text/html": [
       "<div>\n",
       "<style scoped>\n",
       "    .dataframe tbody tr th:only-of-type {\n",
       "        vertical-align: middle;\n",
       "    }\n",
       "\n",
       "    .dataframe tbody tr th {\n",
       "        vertical-align: top;\n",
       "    }\n",
       "\n",
       "    .dataframe thead th {\n",
       "        text-align: right;\n",
       "    }\n",
       "</style>\n",
       "<table border=\"1\" class=\"dataframe\">\n",
       "  <thead>\n",
       "    <tr style=\"text-align: right;\">\n",
       "      <th></th>\n",
       "      <th>English</th>\n",
       "      <th>Polish</th>\n",
       "      <th>Exists</th>\n",
       "    </tr>\n",
       "  </thead>\n",
       "  <tbody>\n",
       "    <tr>\n",
       "      <th>0</th>\n",
       "      <td>cohesive</td>\n",
       "      <td>spoisty</td>\n",
       "      <td>False</td>\n",
       "    </tr>\n",
       "    <tr>\n",
       "      <th>1</th>\n",
       "      <td>prism of</td>\n",
       "      <td>pryzmat</td>\n",
       "      <td>False</td>\n",
       "    </tr>\n",
       "    <tr>\n",
       "      <th>2</th>\n",
       "      <td>Insensitive</td>\n",
       "      <td>Niewrażliwy</td>\n",
       "      <td>False</td>\n",
       "    </tr>\n",
       "    <tr>\n",
       "      <th>3</th>\n",
       "      <td>unfold</td>\n",
       "      <td>rozwijać się</td>\n",
       "      <td>False</td>\n",
       "    </tr>\n",
       "    <tr>\n",
       "      <th>4</th>\n",
       "      <td>ancestors</td>\n",
       "      <td>przodkowie</td>\n",
       "      <td>False</td>\n",
       "    </tr>\n",
       "    <tr>\n",
       "      <th>5</th>\n",
       "      <td>disturbing</td>\n",
       "      <td>niepokojący</td>\n",
       "      <td>False</td>\n",
       "    </tr>\n",
       "    <tr>\n",
       "      <th>6</th>\n",
       "      <td>abundance</td>\n",
       "      <td>obfitość</td>\n",
       "      <td>False</td>\n",
       "    </tr>\n",
       "    <tr>\n",
       "      <th>7</th>\n",
       "      <td>gradually</td>\n",
       "      <td>stopniowo</td>\n",
       "      <td>False</td>\n",
       "    </tr>\n",
       "    <tr>\n",
       "      <th>8</th>\n",
       "      <td>cautiously</td>\n",
       "      <td>ostrożnie</td>\n",
       "      <td>False</td>\n",
       "    </tr>\n",
       "    <tr>\n",
       "      <th>9</th>\n",
       "      <td>dispatch</td>\n",
       "      <td>załatwić</td>\n",
       "      <td>False</td>\n",
       "    </tr>\n",
       "    <tr>\n",
       "      <th>10</th>\n",
       "      <td>unwieldy</td>\n",
       "      <td>nieporęczny</td>\n",
       "      <td>False</td>\n",
       "    </tr>\n",
       "    <tr>\n",
       "      <th>11</th>\n",
       "      <td>rudimentary</td>\n",
       "      <td>prymitywny</td>\n",
       "      <td>False</td>\n",
       "    </tr>\n",
       "    <tr>\n",
       "      <th>12</th>\n",
       "      <td>steadily</td>\n",
       "      <td>stale</td>\n",
       "      <td>False</td>\n",
       "    </tr>\n",
       "    <tr>\n",
       "      <th>13</th>\n",
       "      <td>causality</td>\n",
       "      <td>przyczynowość</td>\n",
       "      <td>False</td>\n",
       "    </tr>\n",
       "    <tr>\n",
       "      <th>14</th>\n",
       "      <td>justice</td>\n",
       "      <td>sprawiedliwość</td>\n",
       "      <td>False</td>\n",
       "    </tr>\n",
       "    <tr>\n",
       "      <th>15</th>\n",
       "      <td>sneak into</td>\n",
       "      <td>zakraść się do</td>\n",
       "      <td>False</td>\n",
       "    </tr>\n",
       "    <tr>\n",
       "      <th>16</th>\n",
       "      <td>dimmed</td>\n",
       "      <td>przyciemniony</td>\n",
       "      <td>False</td>\n",
       "    </tr>\n",
       "  </tbody>\n",
       "</table>\n",
       "</div>"
      ],
      "text/plain": [
       "        English          Polish  Exists\n",
       "0      cohesive         spoisty   False\n",
       "1      prism of         pryzmat   False\n",
       "2   Insensitive     Niewrażliwy   False\n",
       "3        unfold    rozwijać się   False\n",
       "4     ancestors      przodkowie   False\n",
       "5    disturbing     niepokojący   False\n",
       "6     abundance        obfitość   False\n",
       "7     gradually       stopniowo   False\n",
       "8    cautiously       ostrożnie   False\n",
       "9      dispatch        załatwić   False\n",
       "10     unwieldy     nieporęczny   False\n",
       "11  rudimentary      prymitywny   False\n",
       "12     steadily           stale   False\n",
       "13    causality   przyczynowość   False\n",
       "14      justice  sprawiedliwość   False\n",
       "15   sneak into  zakraść się do   False\n",
       "16       dimmed   przyciemniony   False"
      ]
     },
     "execution_count": 36,
     "metadata": {},
     "output_type": "execute_result"
    }
   ],
   "source": [
    "df = pd.DataFrame.from_dict(dict(parsed), orient='index').reset_index()\n",
    "df.columns = ['English', 'Polish']\n",
    "df['Exists'] = False\n",
    "df"
   ]
  },
  {
   "cell_type": "code",
   "execution_count": 37,
   "metadata": {},
   "outputs": [
    {
     "data": {
      "text/html": [
       "<div>\n",
       "<style scoped>\n",
       "    .dataframe tbody tr th:only-of-type {\n",
       "        vertical-align: middle;\n",
       "    }\n",
       "\n",
       "    .dataframe tbody tr th {\n",
       "        vertical-align: top;\n",
       "    }\n",
       "\n",
       "    .dataframe thead th {\n",
       "        text-align: right;\n",
       "    }\n",
       "</style>\n",
       "<table border=\"1\" class=\"dataframe\">\n",
       "  <thead>\n",
       "    <tr style=\"text-align: right;\">\n",
       "      <th></th>\n",
       "      <th>Angielski</th>\n",
       "      <th>Polski</th>\n",
       "      <th>Frequency</th>\n",
       "      <th>BadlyAnswer</th>\n",
       "      <th>PerfectScore</th>\n",
       "    </tr>\n",
       "  </thead>\n",
       "  <tbody>\n",
       "    <tr>\n",
       "      <th>0</th>\n",
       "      <td>peers</td>\n",
       "      <td>rowiesnicy</td>\n",
       "      <td>14</td>\n",
       "      <td>0</td>\n",
       "      <td>0</td>\n",
       "    </tr>\n",
       "    <tr>\n",
       "      <th>1</th>\n",
       "      <td>releases</td>\n",
       "      <td>wydania</td>\n",
       "      <td>14</td>\n",
       "      <td>2</td>\n",
       "      <td>0</td>\n",
       "    </tr>\n",
       "    <tr>\n",
       "      <th>2</th>\n",
       "      <td>nastiest</td>\n",
       "      <td>najgorszy</td>\n",
       "      <td>14</td>\n",
       "      <td>1</td>\n",
       "      <td>0</td>\n",
       "    </tr>\n",
       "    <tr>\n",
       "      <th>3</th>\n",
       "      <td>tend</td>\n",
       "      <td>mieć skłonności</td>\n",
       "      <td>12</td>\n",
       "      <td>4</td>\n",
       "      <td>1</td>\n",
       "    </tr>\n",
       "    <tr>\n",
       "      <th>4</th>\n",
       "      <td>wholesale</td>\n",
       "      <td>hurt</td>\n",
       "      <td>14</td>\n",
       "      <td>1</td>\n",
       "      <td>0</td>\n",
       "    </tr>\n",
       "    <tr>\n",
       "      <th>...</th>\n",
       "      <td>...</td>\n",
       "      <td>...</td>\n",
       "      <td>...</td>\n",
       "      <td>...</td>\n",
       "      <td>...</td>\n",
       "    </tr>\n",
       "    <tr>\n",
       "      <th>3652</th>\n",
       "      <td>mangling</td>\n",
       "      <td>to destroy something by twisting it with force...</td>\n",
       "      <td>11</td>\n",
       "      <td>0</td>\n",
       "      <td>0</td>\n",
       "    </tr>\n",
       "    <tr>\n",
       "      <th>3653</th>\n",
       "      <td>arity</td>\n",
       "      <td>is the number of arguments or operands taken b...</td>\n",
       "      <td>11</td>\n",
       "      <td>0</td>\n",
       "      <td>0</td>\n",
       "    </tr>\n",
       "    <tr>\n",
       "      <th>3654</th>\n",
       "      <td>Ubiquitous Language</td>\n",
       "      <td>wszechobecny język</td>\n",
       "      <td>11</td>\n",
       "      <td>0</td>\n",
       "      <td>0</td>\n",
       "    </tr>\n",
       "    <tr>\n",
       "      <th>3655</th>\n",
       "      <td>wiggle</td>\n",
       "      <td>to (cause to) move up and down and/or from sid...</td>\n",
       "      <td>11</td>\n",
       "      <td>0</td>\n",
       "      <td>0</td>\n",
       "    </tr>\n",
       "    <tr>\n",
       "      <th>3656</th>\n",
       "      <td>attenuates</td>\n",
       "      <td>to make something less or weaker</td>\n",
       "      <td>11</td>\n",
       "      <td>0</td>\n",
       "      <td>0</td>\n",
       "    </tr>\n",
       "  </tbody>\n",
       "</table>\n",
       "<p>3657 rows × 5 columns</p>\n",
       "</div>"
      ],
      "text/plain": [
       "                Angielski                                             Polski  \\\n",
       "0                   peers                                         rowiesnicy   \n",
       "1                releases                                            wydania   \n",
       "2                nastiest                                          najgorszy   \n",
       "3                    tend                                    mieć skłonności   \n",
       "4               wholesale                                               hurt   \n",
       "...                   ...                                                ...   \n",
       "3652             mangling  to destroy something by twisting it with force...   \n",
       "3653                arity  is the number of arguments or operands taken b...   \n",
       "3654  Ubiquitous Language                                 wszechobecny język   \n",
       "3655              wiggle   to (cause to) move up and down and/or from sid...   \n",
       "3656           attenuates                   to make something less or weaker   \n",
       "\n",
       "      Frequency  BadlyAnswer  PerfectScore  \n",
       "0            14            0             0  \n",
       "1            14            2             0  \n",
       "2            14            1             0  \n",
       "3            12            4             1  \n",
       "4            14            1             0  \n",
       "...         ...          ...           ...  \n",
       "3652         11            0             0  \n",
       "3653         11            0             0  \n",
       "3654         11            0             0  \n",
       "3655         11            0             0  \n",
       "3656         11            0             0  \n",
       "\n",
       "[3657 rows x 5 columns]"
      ]
     },
     "execution_count": 37,
     "metadata": {},
     "output_type": "execute_result"
    }
   ],
   "source": [
    "pd.read_csv('control/Data.csv')"
   ]
  },
  {
   "cell_type": "code",
   "execution_count": null,
   "metadata": {},
   "outputs": [],
   "source": []
  }
 ],
 "metadata": {
  "kernelspec": {
   "display_name": "Python 3.9.7 ('base')",
   "language": "python",
   "name": "python3"
  },
  "language_info": {
   "codemirror_mode": {
    "name": "ipython",
    "version": 3
   },
   "file_extension": ".py",
   "mimetype": "text/x-python",
   "name": "python",
   "nbconvert_exporter": "python",
   "pygments_lexer": "ipython3",
   "version": "3.9.7"
  },
  "orig_nbformat": 4,
  "vscode": {
   "interpreter": {
    "hash": "1f2e0de83fe549855a174fb6945e5577e3413e9e9f7ec7864d0f7206f698cf70"
   }
  }
 },
 "nbformat": 4,
 "nbformat_minor": 2
}
