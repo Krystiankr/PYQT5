{
 "cells": [
  {
   "cell_type": "code",
   "execution_count": 1,
   "id": "50835744-9e59-42de-b652-7f955a5abe51",
   "metadata": {},
   "outputs": [],
   "source": [
    "import pandas as pd"
   ]
  },
  {
   "cell_type": "code",
   "execution_count": 40,
   "id": "e28945a0-2f37-48f3-8f37-f9d31e6791ab",
   "metadata": {},
   "outputs": [],
   "source": [
    "df = pd.read_csv('untitled.csv', sep=';', names=['Angielski', 'Polski', 'Frequency', 'BadlyAnswer', 'PerfectScore'])"
   ]
  },
  {
   "cell_type": "code",
   "execution_count": 48,
   "id": "5a47f844-ca76-4944-a0fb-88d504656b65",
   "metadata": {},
   "outputs": [],
   "source": [
    "df[['Frequency', 'BadlyAnswer', 'PerfectScore']] = 9, 0, 0"
   ]
  },
  {
   "cell_type": "code",
   "execution_count": 49,
   "id": "9dad17df-f817-474e-a7b6-f7147d00ab67",
   "metadata": {},
   "outputs": [
    {
     "data": {
      "text/html": [
       "<div>\n",
       "<style scoped>\n",
       "    .dataframe tbody tr th:only-of-type {\n",
       "        vertical-align: middle;\n",
       "    }\n",
       "\n",
       "    .dataframe tbody tr th {\n",
       "        vertical-align: top;\n",
       "    }\n",
       "\n",
       "    .dataframe thead th {\n",
       "        text-align: right;\n",
       "    }\n",
       "</style>\n",
       "<table border=\"1\" class=\"dataframe\">\n",
       "  <thead>\n",
       "    <tr style=\"text-align: right;\">\n",
       "      <th></th>\n",
       "      <th>Angielski</th>\n",
       "      <th>Polski</th>\n",
       "      <th>Frequency</th>\n",
       "      <th>BadlyAnswer</th>\n",
       "      <th>PerfectScore</th>\n",
       "    </tr>\n",
       "  </thead>\n",
       "  <tbody>\n",
       "    <tr>\n",
       "      <th>0</th>\n",
       "      <td>down-to-earth</td>\n",
       "      <td>rzeczowy</td>\n",
       "      <td>9</td>\n",
       "      <td>0</td>\n",
       "      <td>0</td>\n",
       "    </tr>\n",
       "    <tr>\n",
       "      <th>1</th>\n",
       "      <td>computer geek</td>\n",
       "      <td>maniak komputerowy</td>\n",
       "      <td>9</td>\n",
       "      <td>0</td>\n",
       "      <td>0</td>\n",
       "    </tr>\n",
       "    <tr>\n",
       "      <th>2</th>\n",
       "      <td>people person</td>\n",
       "      <td>osoba towarzyska</td>\n",
       "      <td>9</td>\n",
       "      <td>0</td>\n",
       "      <td>0</td>\n",
       "    </tr>\n",
       "    <tr>\n",
       "      <th>3</th>\n",
       "      <td>keep yourself to yourself</td>\n",
       "      <td>zamknięty w sobie</td>\n",
       "      <td>9</td>\n",
       "      <td>0</td>\n",
       "      <td>0</td>\n",
       "    </tr>\n",
       "    <tr>\n",
       "      <th>4</th>\n",
       "      <td>good laugh</td>\n",
       "      <td>zabawny</td>\n",
       "      <td>9</td>\n",
       "      <td>0</td>\n",
       "      <td>0</td>\n",
       "    </tr>\n",
       "    <tr>\n",
       "      <th>...</th>\n",
       "      <td>...</td>\n",
       "      <td>...</td>\n",
       "      <td>...</td>\n",
       "      <td>...</td>\n",
       "      <td>...</td>\n",
       "    </tr>\n",
       "    <tr>\n",
       "      <th>128</th>\n",
       "      <td>and yet</td>\n",
       "      <td>a jednak</td>\n",
       "      <td>9</td>\n",
       "      <td>0</td>\n",
       "      <td>0</td>\n",
       "    </tr>\n",
       "    <tr>\n",
       "      <th>129</th>\n",
       "      <td>paws</td>\n",
       "      <td>łapy</td>\n",
       "      <td>9</td>\n",
       "      <td>0</td>\n",
       "      <td>0</td>\n",
       "    </tr>\n",
       "    <tr>\n",
       "      <th>130</th>\n",
       "      <td>wingwalking</td>\n",
       "      <td>chodzenie po skrzydle samolotu</td>\n",
       "      <td>9</td>\n",
       "      <td>0</td>\n",
       "      <td>0</td>\n",
       "    </tr>\n",
       "    <tr>\n",
       "      <th>131</th>\n",
       "      <td>bungee jumping</td>\n",
       "      <td>skok na bungee</td>\n",
       "      <td>9</td>\n",
       "      <td>0</td>\n",
       "      <td>0</td>\n",
       "    </tr>\n",
       "    <tr>\n",
       "      <th>132</th>\n",
       "      <td>sledding</td>\n",
       "      <td>saneczkarstwo</td>\n",
       "      <td>9</td>\n",
       "      <td>0</td>\n",
       "      <td>0</td>\n",
       "    </tr>\n",
       "  </tbody>\n",
       "</table>\n",
       "<p>133 rows × 5 columns</p>\n",
       "</div>"
      ],
      "text/plain": [
       "                     Angielski                          Polski  Frequency  \\\n",
       "0                down-to-earth                        rzeczowy          9   \n",
       "1                computer geek              maniak komputerowy          9   \n",
       "2                people person                osoba towarzyska          9   \n",
       "3    keep yourself to yourself               zamknięty w sobie          9   \n",
       "4                   good laugh                         zabawny          9   \n",
       "..                         ...                             ...        ...   \n",
       "128                    and yet                        a jednak          9   \n",
       "129                       paws                            łapy          9   \n",
       "130                wingwalking  chodzenie po skrzydle samolotu          9   \n",
       "131             bungee jumping                  skok na bungee          9   \n",
       "132                   sledding                   saneczkarstwo          9   \n",
       "\n",
       "     BadlyAnswer  PerfectScore  \n",
       "0              0             0  \n",
       "1              0             0  \n",
       "2              0             0  \n",
       "3              0             0  \n",
       "4              0             0  \n",
       "..           ...           ...  \n",
       "128            0             0  \n",
       "129            0             0  \n",
       "130            0             0  \n",
       "131            0             0  \n",
       "132            0             0  \n",
       "\n",
       "[133 rows x 5 columns]"
      ]
     },
     "execution_count": 49,
     "metadata": {},
     "output_type": "execute_result"
    }
   ],
   "source": [
    "df"
   ]
  },
  {
   "cell_type": "code",
   "execution_count": 31,
   "id": "b678f08d-02c1-434b-b71f-6d73d27bea46",
   "metadata": {},
   "outputs": [],
   "source": [
    "df1= pd.read_csv('control_files/Data.csv')"
   ]
  },
  {
   "cell_type": "code",
   "execution_count": 65,
   "id": "963a083f-68c2-4fc7-a121-7b3be375f673",
   "metadata": {},
   "outputs": [],
   "source": [
    "df = pd.concat([df1, df]).reset_index().drop('index', axis=1)"
   ]
  },
  {
   "cell_type": "code",
   "execution_count": 66,
   "id": "47160a81-c1b3-463d-9749-a87a7e5013e0",
   "metadata": {},
   "outputs": [],
   "source": [
    "df.to_csv('control_files/Data.csv')"
   ]
  },
  {
   "cell_type": "code",
   "execution_count": null,
   "id": "89855f1a-da8c-4e24-bbac-5a2f192dda33",
   "metadata": {},
   "outputs": [],
   "source": []
  }
 ],
 "metadata": {
  "kernelspec": {
   "display_name": "Python 3",
   "language": "python",
   "name": "python3"
  },
  "language_info": {
   "codemirror_mode": {
    "name": "ipython",
    "version": 3
   },
   "file_extension": ".py",
   "mimetype": "text/x-python",
   "name": "python",
   "nbconvert_exporter": "python",
   "pygments_lexer": "ipython3",
   "version": "3.8.7"
  }
 },
 "nbformat": 4,
 "nbformat_minor": 5
}
